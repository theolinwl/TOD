{
 "cells": [
  {
   "cell_type": "markdown",
   "id": "5df41dfa",
   "metadata": {},
   "source": [
    "# Numpy"
   ]
  },
  {
   "cell_type": "markdown",
   "id": "b83c0c12",
   "metadata": {},
   "source": [
    "Материалы:\n",
    "* Макрушин С.В. \"Лекция 1: Библиотека Numpy\"\n",
    "* https://numpy.org/doc/stable/user/index.html\n",
    "* https://numpy.org/doc/stable/reference/index.html"
   ]
  },
  {
   "cell_type": "markdown",
   "id": "5f442d34",
   "metadata": {},
   "source": [
    "## Задачи для совместного разбора"
   ]
  },
  {
   "cell_type": "markdown",
   "id": "b60882bb",
   "metadata": {},
   "source": [
    "1. Сгенерировать двухмерный массив arr размерности (4, 7), состоящий из случайных действительных чисел, равномерно распределенных в диапазоне от 0 до 20. Нормализовать значения массива с помощью преобразования вида  𝑎𝑥+𝑏 так, что после нормализации максимальный элемент масcива будет равен 1.0, минимальный 0.0"
   ]
  },
  {
   "cell_type": "code",
   "execution_count": 2,
   "id": "148138ed",
   "metadata": {},
   "outputs": [
    {
     "name": "stdout",
     "output_type": "stream",
     "text": [
      "[[ 5.4544056   5.46949986  3.00393624 12.0516551  10.62014489 12.78750011\n",
      "  14.89203755]\n",
      " [ 7.12059568 19.53908738 10.3560764  13.01490485 16.24749226 17.33403148\n",
      "   9.7535884 ]\n",
      " [16.34029393  5.21772517 11.25014054  7.54403914  2.48346015 16.82832851\n",
      "  12.74280717]\n",
      " [ 8.08288597 17.54188371  6.9237114  17.16472545  1.57889636  2.44085156\n",
      "   4.14054536]]\n",
      "\n",
      "[[0.2157833  0.21662373 0.07934436 0.58310954 0.50340492 0.62408043\n",
      "  0.74125833]\n",
      " [0.30855459 1.         0.48870193 0.63674203 0.81672828 0.87722536\n",
      "  0.45515619]\n",
      " [0.82189535 0.20260524 0.53848226 0.33213137 0.05036493 0.84906848\n",
      "  0.62159199]\n",
      " [0.36213365 0.88879831 0.29759233 0.86779863 0.         0.04799254\n",
      "  0.14262927]]\n"
     ]
    }
   ],
   "source": [
    "import numpy as np\n",
    "arr = np.random.uniform(0,20,(4,7))\n",
    "maxx=arr.max()\n",
    "minn=arr.min()\n",
    "\n",
    "a=1.0/(maxx-minn)\n",
    "b=-minn*a\n",
    "arr_normalized=a*arr+b\n",
    "\n",
    "print(arr)\n",
    "print()\n",
    "print(arr_normalized)"
   ]
  },
  {
   "cell_type": "markdown",
   "id": "670c43a1",
   "metadata": {},
   "source": [
    "2. Создать матрицу 8 на 10 из случайных целых (используя модуль numpy.random) чисел из диапозона от 0 до 10 и найти в ней строку (ее индекс и вывести саму строку), в которой сумма значений минимальна."
   ]
  },
  {
   "cell_type": "code",
   "execution_count": 3,
   "id": "f2ab2f0a",
   "metadata": {},
   "outputs": [
    {
     "name": "stdout",
     "output_type": "stream",
     "text": [
      "[[5 1 7 9 3 1 5 1 4 1]\n",
      " [6 9 3 3 0 1 0 3 3 4]\n",
      " [1 3 1 7 9 6 9 5 8 2]\n",
      " [0 0 8 9 9 1 5 1 7 1]\n",
      " [0 5 2 6 4 7 4 6 4 4]\n",
      " [4 3 3 8 1 6 2 5 2 2]\n",
      " [1 9 3 3 2 3 1 0 4 8]\n",
      " [3 2 8 7 3 6 7 3 8 4]]\n",
      "Индекс - 1\n",
      "Строка - [6 9 3 3 0 1 0 3 3 4]\n"
     ]
    }
   ],
   "source": [
    "arr2=np.random.randint(0,10,(8,10))\n",
    "print(arr2)\n",
    "summ=arr2.sum(axis=1)\n",
    "ind=np.argmin(summ)\n",
    "print(f'Индекс - {ind}')\n",
    "print(f'Строка - {arr2[ind,:]}')"
   ]
  },
  {
   "cell_type": "markdown",
   "id": "c3d22335",
   "metadata": {},
   "source": [
    "3. Найти евклидово расстояние между двумя одномерными векторами одинаковой размерности."
   ]
  },
  {
   "cell_type": "code",
   "execution_count": 4,
   "id": "fc6280b7",
   "metadata": {},
   "outputs": [
    {
     "name": "stdout",
     "output_type": "stream",
     "text": [
      "Евклидово расстояние между векторами: 11.180339887498949\n"
     ]
    }
   ],
   "source": [
    "v1 = np.array([1, 2, 3, 4, 5])\n",
    "v2 = np.array([6, 7, 8, 9, 10])\n",
    "\n",
    "eucl_distance = np.linalg.norm(v1 - v2)\n",
    "\n",
    "print(\"Евклидово расстояние между векторами:\", eucl_distance)"
   ]
  },
  {
   "cell_type": "markdown",
   "id": "26a9dedf",
   "metadata": {},
   "source": [
    "4. Решить матричное уравнение A*X*B=-C - найти матрицу X. Где A = [[-1, 2, 4], [-3, 1, 2], [-3, 0, 1]], B=[[3, -1], [2, 1]], C=[[7, 21], [11, 8], [8, 4]]"
   ]
  },
  {
   "cell_type": "code",
   "execution_count": 5,
   "id": "6951c003",
   "metadata": {},
   "outputs": [
    {
     "name": "stdout",
     "output_type": "stream",
     "text": [
      "[[ 1.00000000e+00  1.11022302e-15]\n",
      " [-2.00000000e+00  1.00000000e+00]\n",
      " [ 3.00000000e+00 -4.00000000e+00]]\n"
     ]
    }
   ],
   "source": [
    "A = np.array([[-1, 2, 4], [-3, 1, 2], [-3, 0, 1]])\n",
    "B = np.array([[3, -1], [2, 1]])\n",
    "C = np.array([[7, 21], [11, 8], [8, 4]])\n",
    "\n",
    "X = np.dot(np.dot(np.linalg.inv(A), -C), np.linalg.inv(B))\n",
    "print(X)"
   ]
  },
  {
   "cell_type": "markdown",
   "id": "c17bb10b",
   "metadata": {},
   "source": [
    "## Лабораторная работа 1"
   ]
  },
  {
   "cell_type": "markdown",
   "id": "e348e45d",
   "metadata": {},
   "source": [
    "Замечание: при решении данных задач не подразумевается использования циклов или генераторов Python, если в задании не сказано обратного. Решение должно опираться на использования функционала библиотеки numpy.\n",
    "\n",
    "1. Файл minutes_n_ingredients.csv содержит информацию об идентификаторе рецепта, времени его выполнения в минутах и количестве необходимых ингредиентов. Считайте данные из этого файла в виде массива numpy типа int32, используя np.loadtxt. Выведите на экран первые 5 строк массива."
   ]
  },
  {
   "cell_type": "code",
   "execution_count": 6,
   "id": "4f0fcf97",
   "metadata": {},
   "outputs": [
    {
     "name": "stdout",
     "output_type": "stream",
     "text": [
      "[[127244     60     16]\n",
      " [ 23891     25      7]\n",
      " [ 94746     10      6]\n",
      " [ 67660      5      6]\n",
      " [157911     60     14]]\n"
     ]
    }
   ],
   "source": [
    "recipe=np.loadtxt('minutes_n_ingredients.csv',dtype=np.int32,delimiter=',',skiprows=1)\n",
    "print(recipe[:5])"
   ]
  },
  {
   "cell_type": "markdown",
   "id": "6bca05a5",
   "metadata": {},
   "source": [
    "2. Вычислите среднее значение, минимум, максимум и медиану по каждому из столбцов, кроме первого."
   ]
  },
  {
   "cell_type": "code",
   "execution_count": 7,
   "id": "1fea0cd8",
   "metadata": {},
   "outputs": [
    {
     "name": "stdout",
     "output_type": "stream",
     "text": [
      "[2.16010017e+04 9.05528000e+00]\n",
      "[0 1]\n",
      "[2147483647         39]\n",
      "[40.  9.]\n"
     ]
    }
   ],
   "source": [
    "mean_values = np.mean(recipe[:, 1:], axis=0)\n",
    "min_values = np.min(recipe[:, 1:], axis=0)\n",
    "max_values = np.max(recipe[:, 1:], axis=0)\n",
    "median_values = np.median(recipe[:, 1:], axis=0)\n",
    "print(mean_values)\n",
    "print(min_values)\n",
    "print(max_values)\n",
    "print(median_values)"
   ]
  },
  {
   "cell_type": "markdown",
   "id": "acdfdadc",
   "metadata": {},
   "source": [
    "3. Ограничьте сверху значения продолжительности выполнения рецепта значением квантиля  𝑞0.75."
   ]
  },
  {
   "cell_type": "code",
   "execution_count": 8,
   "id": "8624adba",
   "metadata": {},
   "outputs": [
    {
     "name": "stdout",
     "output_type": "stream",
     "text": [
      "65.0\n"
     ]
    }
   ],
   "source": [
    "q_75 = np.quantile(recipe[:, 1], 0.75, axis=0)\n",
    "print(q_75)"
   ]
  },
  {
   "cell_type": "markdown",
   "id": "81fd4e82",
   "metadata": {},
   "source": [
    "4. Посчитайте, для скольких рецептов указана продолжительность, равная нулю. Замените для таких строк значение в данном столбце на 1."
   ]
  },
  {
   "cell_type": "code",
   "execution_count": 9,
   "id": "e821d809",
   "metadata": {},
   "outputs": [],
   "source": [
    "zero_duration=np.sum(recipe[:,1]==0)\n",
    "recipe[:,1][recipe[:,1]==0]=1"
   ]
  },
  {
   "cell_type": "markdown",
   "id": "00afd11a",
   "metadata": {},
   "source": [
    "5. Посчитайте, сколько уникальных рецептов находится в датасете."
   ]
  },
  {
   "cell_type": "code",
   "execution_count": 10,
   "id": "e2b9e5d7",
   "metadata": {},
   "outputs": [
    {
     "name": "stdout",
     "output_type": "stream",
     "text": [
      "100000\n"
     ]
    }
   ],
   "source": [
    "unique_rec_count = len(np.unique(recipe[:, 0]))\n",
    "print(unique_rec_count)"
   ]
  },
  {
   "cell_type": "markdown",
   "id": "edf46f2d",
   "metadata": {},
   "source": [
    "6. Сколько и каких различных значений кол-ва ингредиентов присутвует в рецептах из датасета?"
   ]
  },
  {
   "cell_type": "code",
   "execution_count": 11,
   "id": "79b03a6d",
   "metadata": {},
   "outputs": [
    {
     "name": "stdout",
     "output_type": "stream",
     "text": [
      "[ 1  2  3  4  5  6  7  8  9 10 11 12 13 14 15 16 17 18 19 20 21 22 23 24\n",
      " 25 26 27 28 29 30 31 32 33 34 35 37 39]\n",
      "37\n"
     ]
    }
   ],
   "source": [
    "unique_ingr = np.unique(recipe[:, 2])\n",
    "unique_ingr_count = len(unique_ingr)\n",
    "print(unique_ingr)\n",
    "print(unique_ingr_count)"
   ]
  },
  {
   "cell_type": "markdown",
   "id": "47a25a7a",
   "metadata": {},
   "source": [
    "7. Создайте версию массива, содержащую информацию только о рецептах, состоящих не более чем из 5 ингредиентов."
   ]
  },
  {
   "cell_type": "code",
   "execution_count": 12,
   "id": "caf37e80",
   "metadata": {},
   "outputs": [
    {
     "data": {
      "text/plain": [
       "array([[446597,     15,      5],\n",
       "       [204134,      5,      3],\n",
       "       [ 25623,      6,      4],\n",
       "       ...,\n",
       "       [ 52088,     60,      5],\n",
       "       [128811,     15,      4],\n",
       "       [370915,      5,      4]])"
      ]
     },
     "execution_count": 12,
     "metadata": {},
     "output_type": "execute_result"
    }
   ],
   "source": [
    "recipe_less_5 = recipe[recipe[:, 2] <= 5]\n",
    "recipe_less_5"
   ]
  },
  {
   "cell_type": "markdown",
   "id": "e956c35a",
   "metadata": {},
   "source": [
    "8. Для каждого рецепта посчитайте, сколько в среднем ингредиентов приходится на одну минуту рецепта. Найдите максимальное значение этой величины для всего датасета"
   ]
  },
  {
   "cell_type": "code",
   "execution_count": 13,
   "id": "6b79ef91",
   "metadata": {},
   "outputs": [
    {
     "name": "stdout",
     "output_type": "stream",
     "text": [
      "[0.26666667 0.28       0.6        ... 0.23076923 0.8        0.1       ]\n",
      "24.0\n"
     ]
    }
   ],
   "source": [
    "ingr_per_minute = recipe[:, 2] / recipe[:, 1]\n",
    "max_ingr_per_minute = np.max(ingr_per_minute)\n",
    "print(ingr_per_minute)\n",
    "print(max_ingr_per_minute)"
   ]
  },
  {
   "cell_type": "markdown",
   "id": "e960414e",
   "metadata": {},
   "source": [
    "9. Вычислите среднее количество ингредиентов для топ-100 рецептов с наибольшей продолжительностью"
   ]
  },
  {
   "cell_type": "code",
   "execution_count": 14,
   "id": "cdf24608",
   "metadata": {},
   "outputs": [
    {
     "name": "stdout",
     "output_type": "stream",
     "text": [
      "28.22\n"
     ]
    }
   ],
   "source": [
    "top100_mean_ingr = np.mean(np.sort(recipe[:, 2])[-100:])\n",
    "print(top100_mean_ingr)"
   ]
  },
  {
   "cell_type": "markdown",
   "id": "429b98b0",
   "metadata": {},
   "source": [
    "10. Выберите случайным образом и выведите информацию о 10 различных рецептах"
   ]
  },
  {
   "cell_type": "code",
   "execution_count": 15,
   "id": "c635f839",
   "metadata": {},
   "outputs": [
    {
     "name": "stdout",
     "output_type": "stream",
     "text": [
      "[[ 22174     42      9]\n",
      " [ 69173     50     10]\n",
      " [ 93662     20      5]\n",
      " [ 72805     75     13]\n",
      " [232248     30      4]\n",
      " [101198    143     10]\n",
      " [181455     80      9]\n",
      " [ 26252     15      5]\n",
      " [207281     40     10]\n",
      " [500837     25      8]]\n"
     ]
    }
   ],
   "source": [
    "random_recipes = recipe[np.random.choice(recipe.shape[0], 10, replace=False)]\n",
    "print(random_recipes)"
   ]
  },
  {
   "cell_type": "markdown",
   "id": "a77dc124",
   "metadata": {},
   "source": [
    "11. Выведите процент рецептов, кол-во ингредиентов в которых меньше среднего."
   ]
  },
  {
   "cell_type": "code",
   "execution_count": 16,
   "id": "98e4dbc6",
   "metadata": {},
   "outputs": [
    {
     "name": "stdout",
     "output_type": "stream",
     "text": [
      "58.802 %\n"
     ]
    }
   ],
   "source": [
    "perc_less_than_avg = np.mean(recipe[:, 2] < np.mean(recipe[:, 2])) * 100\n",
    "print(perc_less_than_avg,'%')"
   ]
  },
  {
   "cell_type": "markdown",
   "id": "21687847",
   "metadata": {},
   "source": [
    "12. Назовем \"простым\" такой рецепт, длительность выполнения которого не больше 20 минут и кол-во ингредиентов в котором не больше 5. Создайте версию датасета с дополнительным столбцом, значениями которого являются 1, если рецепт простой, и 0 в противном случае."
   ]
  },
  {
   "cell_type": "code",
   "execution_count": 17,
   "id": "232ff1da",
   "metadata": {},
   "outputs": [
    {
     "name": "stdout",
     "output_type": "stream",
     "text": [
      "[[127244     60     16      0]\n",
      " [ 23891     25      7      0]\n",
      " [ 94746     10      6      0]\n",
      " ...\n",
      " [498432     65     15      0]\n",
      " [370915      5      4      1]\n",
      " [ 81993    140     14      0]]\n"
     ]
    }
   ],
   "source": [
    "simple_recipe = np.logical_and(recipe[:, 1] <= 20, recipe[:, 2] <= 5).astype(int)\n",
    "recipe2 = np.column_stack((recipe, simple_recipe))\n",
    "print(recipe2)"
   ]
  },
  {
   "cell_type": "markdown",
   "id": "18a45766",
   "metadata": {},
   "source": [
    "13. Выведите процент \"простых\" рецептов в датасете"
   ]
  },
  {
   "cell_type": "code",
   "execution_count": 18,
   "id": "6cc33faa",
   "metadata": {},
   "outputs": [
    {
     "name": "stdout",
     "output_type": "stream",
     "text": [
      "9.552 %\n"
     ]
    }
   ],
   "source": [
    "perc_simple_recipes = np.mean(simple_recipe) * 100\n",
    "print(perc_simple_recipes,'%')"
   ]
  },
  {
   "cell_type": "markdown",
   "id": "26f7ab9d",
   "metadata": {},
   "source": [
    "14. Разделим рецепты на группы по следующему правилу. Назовем рецепты короткими, если их продолжительность составляет менее 10 минут; стандартными, если их продолжительность составляет более 10, но менее 20 минут; и длинными, если их продолжительность составляет не менее 20 минут. Создайте трехмерный массив, где нулевая ось отвечает за номер группы (короткий, стандартный или длинный рецепт), первая ось - за сам рецепт и вторая ось - за характеристики рецепта. Выберите максимальное количество рецептов из каждой группы таким образом, чтобы было возможно сформировать трехмерный массив. Выведите форму полученного массива."
   ]
  },
  {
   "cell_type": "code",
   "execution_count": 19,
   "id": "cb6a388c",
   "metadata": {},
   "outputs": [
    {
     "name": "stdout",
     "output_type": "stream",
     "text": [
      "(3, 7588, 3)\n"
     ]
    }
   ],
   "source": [
    "short_recipes = recipe[recipe[:, 1] < 10]\n",
    "standard_recipes = recipe[(recipe[:, 1] >= 10) & (recipe[:, 1] < 20)]\n",
    "long_recipes = recipe[recipe[:, 1] >= 20]\n",
    "\n",
    "max_count = min(len(short_recipes), len(standard_recipes), len(long_recipes))\n",
    "result_array = np.zeros((3, max_count, 3))\n",
    "result_array[0, :len(short_recipes), :] = short_recipes[:max_count]\n",
    "result_array[1, :len(standard_recipes), :] = standard_recipes[:max_count]\n",
    "result_array[2, :len(long_recipes), :] = long_recipes[:max_count]\n",
    "\n",
    "print(result_array.shape)"
   ]
  }
 ],
 "metadata": {
  "kernelspec": {
   "display_name": "Python 3 (ipykernel)",
   "language": "python",
   "name": "python3"
  },
  "language_info": {
   "codemirror_mode": {
    "name": "ipython",
    "version": 3
   },
   "file_extension": ".py",
   "mimetype": "text/x-python",
   "name": "python",
   "nbconvert_exporter": "python",
   "pygments_lexer": "ipython3",
   "version": "3.11.5"
  }
 },
 "nbformat": 4,
 "nbformat_minor": 5
}
