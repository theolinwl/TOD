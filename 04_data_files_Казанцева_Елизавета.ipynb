{
 "cells": [
  {
   "cell_type": "markdown",
   "metadata": {},
   "source": [
    "# Форматы данных (1)"
   ]
  },
  {
   "cell_type": "markdown",
   "metadata": {},
   "source": [
    "Материалы:\n",
    "* Макрушин С.В. \"Лекция 4: Форматы данных\"\n",
    "* https://docs.python.org/3/library/json.html\n",
    "* https://docs.python.org/3/library/pickle.html\n",
    "* https://www.crummy.com/software/BeautifulSoup/bs4/doc.ru/bs4ru.html\n",
    "* Уэс Маккини. Python и анализ данных"
   ]
  },
  {
   "cell_type": "markdown",
   "metadata": {},
   "source": [
    "## Задачи для совместного разбора"
   ]
  },
  {
   "cell_type": "markdown",
   "metadata": {},
   "source": [
    "1. Вывести все адреса электронной почты, содержащиеся в адресной книге `addres-book.json`"
   ]
  },
  {
   "cell_type": "code",
   "execution_count": 1,
   "metadata": {},
   "outputs": [
    {
     "name": "stdout",
     "output_type": "stream",
     "text": [
      "faina@mail.ru\n",
      "robert@mail.ru\n"
     ]
    }
   ],
   "source": [
    "import json\n",
    "\n",
    "with open('data/addres-book.json', 'r', encoding = 'utf-8') as f:\n",
    "    ab = json.load(f)\n",
    "    \n",
    "for i in ab:\n",
    "    print(i['email'])"
   ]
  },
  {
   "cell_type": "markdown",
   "metadata": {},
   "source": [
    "2. Вывести телефоны, содержащиеся в адресной книге `addres-book.json`"
   ]
  },
  {
   "cell_type": "code",
   "execution_count": 2,
   "metadata": {},
   "outputs": [
    {
     "name": "stdout",
     "output_type": "stream",
     "text": [
      "{'phone': '232-19-55'}\n",
      "{'phone': '+7 (916) 232-19-55'}\n",
      "{'phone': '111-19-55'}\n",
      "{'phone': '+7 (916) 445-19-55'}\n"
     ]
    }
   ],
   "source": [
    "for j in ab:\n",
    "    for phone in j['phones']:\n",
    "        print(phone)"
   ]
  },
  {
   "cell_type": "markdown",
   "metadata": {},
   "source": [
    "3. По данным из файла `addres-book-q.xml` сформировать список словарей с телефонами каждого из людей. "
   ]
  },
  {
   "cell_type": "code",
   "execution_count": 3,
   "metadata": {},
   "outputs": [
    {
     "data": {
      "text/plain": [
       "<?xml version=\"1.0\" encoding=\"utf-8\"?>\n",
       "<address_book>\n",
       "<country name=\"algeria\">\n",
       "<address id=\"1\">\n",
       "<gender>m</gender>\n",
       "<name>Aicha Barki</name>\n",
       "<email>aiqraa.asso@caramail.com</email>\n",
       "<position>Presidente</position>\n",
       "<company>Association Algerienne d'Alphabetisation Iqraa</company>\n",
       "<phones>\n",
       "<phone type=\"work\">+ (213) 6150 4015</phone>\n",
       "<phone type=\"personal\">+ (213) 2173 5247</phone>\n",
       "</phones>\n",
       "</address>\n",
       "</country>\n",
       "<country name=\"angola\">\n",
       "<address id=\"2\">\n",
       "<gender>m</gender>\n",
       "<name>Francisco Domingos</name>\n",
       "<email>frandomingos@hotmail.com</email>\n",
       "<position>Directeur General</position>\n",
       "<company>Institut National de Education des Adultes</company>\n",
       "<phones>\n",
       "<phone type=\"work\">+ (244-2) 325 023</phone>\n",
       "<phone type=\"personal\">+ (244-2) 325 023</phone>\n",
       "</phones>\n",
       "</address>\n",
       "<address id=\"3\">\n",
       "<gender>f</gender>\n",
       "<name>Maria Luisa</name>\n",
       "<email>luisagrilo@ebonet.net</email>\n",
       "<position>Directrice Nationale</position>\n",
       "<company>Institut National de Education des Adultes</company>\n",
       "<phones>\n",
       "<phone type=\"personal\">+ (244) 4232 2836</phone>\n",
       "</phones>\n",
       "</address>\n",
       "<address id=\"4\">\n",
       "<gender>m</gender>\n",
       "<name>Abraao Chanda</name>\n",
       "<email>ineda@snet.co.ao</email>\n",
       "<position>Chef</position>\n",
       "<company>Institut National de Education des Adultes</company>\n",
       "<phones>\n",
       "<phone type=\"work\">+ (244-2) 325 023</phone>\n",
       "<phone type=\"personal\">+ (244-2) 325 023</phone>\n",
       "</phones>\n",
       "</address>\n",
       "</country>\n",
       "<country name=\"argentina\">\n",
       "<address id=\"5\">\n",
       "<gender>m</gender>\n",
       "<name>Beatriz Busaniche</name>\n",
       "<email>busaniche@caminandoutopias.org.ar</email>\n",
       "<position>Executive Director</position>\n",
       "<company>Universidad de Buenos Aires</company>\n",
       "<phones>\n",
       "<phone type=\"work\">+ (54-11) 4784 1159</phone>\n",
       "</phones>\n",
       "</address>\n",
       "</country>\n",
       "<country name=\"australia\">\n",
       "<address id=\"6\">\n",
       "<gender>f</gender>\n",
       "<name>Francesca Beddie</name>\n",
       "<email>f.beddie@ala.asn.au</email>\n",
       "<position>Executive Director</position>\n",
       "<company>Adult Learning Australia</company>\n",
       "<phones>\n",
       "<phone type=\"work\">+ (61-2) 6274 9500</phone>\n",
       "<phone type=\"personal\">+ (61-2) 6274 9513</phone>\n",
       "</phones>\n",
       "</address>\n",
       "<address id=\"7\">\n",
       "<gender>m</gender>\n",
       "<name>Graham John Smith</name>\n",
       "<email>grasm@connexus.net.au</email>\n",
       "<position>Secretary</position>\n",
       "<company>Disability Australia Ltd</company>\n",
       "<phones>\n",
       "<phone type=\"work\">+ (61-3) 9807 4702</phone>\n",
       "</phones>\n",
       "</address>\n",
       "</country>\n",
       "</address_book>"
      ]
     },
     "execution_count": 3,
     "metadata": {},
     "output_type": "execute_result"
    }
   ],
   "source": [
    "import requests\n",
    "from bs4 import BeautifulSoup\n",
    "\n",
    "with open('data/addres-book-q.xml') as f:\n",
    "    abq = BeautifulSoup(f, 'xml')\n",
    "abq"
   ]
  },
  {
   "cell_type": "code",
   "execution_count": 4,
   "metadata": {},
   "outputs": [
    {
     "data": {
      "text/plain": [
       "{'Aicha Barki': ['+ (213) 6150 4015', '+ (213) 2173 5247'],\n",
       " 'Francisco Domingos': ['+ (244-2) 325 023', '+ (244-2) 325 023'],\n",
       " 'Maria Luisa': ['+ (244) 4232 2836'],\n",
       " 'Abraao Chanda': ['+ (244-2) 325 023', '+ (244-2) 325 023'],\n",
       " 'Beatriz Busaniche': ['+ (54-11) 4784 1159'],\n",
       " 'Francesca Beddie': ['+ (61-2) 6274 9500', '+ (61-2) 6274 9513'],\n",
       " 'Graham John Smith': ['+ (61-3) 9807 4702']}"
      ]
     },
     "execution_count": 4,
     "metadata": {},
     "output_type": "execute_result"
    }
   ],
   "source": [
    "people_phones = {}\n",
    "for i in abq.address_book.find_all('address'):\n",
    "    n = [ph.text for ph in i.phones.find_all('phone')]\n",
    "    people_phones[i.find('name').text] = n\n",
    "people_phones"
   ]
  },
  {
   "cell_type": "markdown",
   "metadata": {},
   "source": [
    "## Лабораторная работа №4"
   ]
  },
  {
   "cell_type": "markdown",
   "metadata": {},
   "source": [
    "### JSON"
   ]
  },
  {
   "cell_type": "markdown",
   "metadata": {},
   "source": [
    "1.1 Считайте файл `contributors_sample.json`. Воспользовавшись модулем `json`, преобразуйте содержимое файла в соответствующие объекты python. Выведите на экран информацию о первых 3 пользователях."
   ]
  },
  {
   "cell_type": "code",
   "execution_count": 5,
   "metadata": {},
   "outputs": [
    {
     "name": "stdout",
     "output_type": "stream",
     "text": [
      "{'username': 'uhebert', 'name': 'Lindsey Nguyen', 'sex': 'F', 'address': '01261 Cameron Spring\\nTaylorfurt, AK 97791', 'mail': 'jsalazar@gmail.com', 'jobs': ['Energy engineer', 'Engineer, site', 'Environmental health practitioner', 'Biomedical scientist', 'Jewellery designer'], 'id': 35193}\n",
      "{'username': 'vickitaylor', 'name': 'Cheryl Lewis', 'sex': 'F', 'address': '66992 Welch Brooks\\nMarshallshire, ID 56004', 'mail': 'bhudson@gmail.com', 'jobs': ['Music therapist', 'Volunteer coordinator', 'Designer, interior/spatial'], 'id': 91970}\n",
      "{'username': 'sheilaadams', 'name': 'Julia Allen', 'sex': 'F', 'address': 'Unit 1632 Box 2971\\nDPO AE 23297', 'mail': 'darren44@yahoo.com', 'jobs': ['Management consultant', 'Engineer, structural', 'Lecturer, higher education', 'Theatre manager', 'Designer, textile'], 'id': 1848091}\n"
     ]
    }
   ],
   "source": [
    "import json\n",
    "\n",
    "with open('data\\contributors_sample.json', 'r', encoding = 'utf-8') as f:\n",
    "    users = json.load(f)\n",
    "    \n",
    "for user in users[:3]:\n",
    "    print(user)\n",
    "    "
   ]
  },
  {
   "cell_type": "markdown",
   "metadata": {},
   "source": [
    "1.2 Выведите уникальные почтовые домены, содержащиеся в почтовых адресах людей"
   ]
  },
  {
   "cell_type": "code",
   "execution_count": 6,
   "metadata": {},
   "outputs": [
    {
     "name": "stdout",
     "output_type": "stream",
     "text": [
      "['gmail.com', 'yahoo.com', 'hotmail.com']\n"
     ]
    }
   ],
   "source": [
    "unique_mail = [] \n",
    "for user in users:\n",
    "    domen = user['mail'].split('@')[1]\n",
    "    if domen not in unique_mail:\n",
    "        unique_mail.append(domen)\n",
    "        \n",
    "print(unique_mail)\n"
   ]
  },
  {
   "cell_type": "code",
   "execution_count": 7,
   "metadata": {},
   "outputs": [
    {
     "data": {
      "text/plain": [
       "array(['gmail.com', 'hotmail.com', 'yahoo.com'], dtype='<U11')"
      ]
     },
     "execution_count": 7,
     "metadata": {},
     "output_type": "execute_result"
    }
   ],
   "source": [
    "import numpy as np\n",
    "\n",
    "mail = []\n",
    "for user in users:\n",
    "    mail.append(user['mail'].split('@')[1])\n",
    "\n",
    "np.unique(mail)"
   ]
  },
  {
   "cell_type": "markdown",
   "metadata": {},
   "source": [
    "1.3 Напишите функцию, которая по `username` ищет человека и выводит информацию о нем. Если пользователь с заданным `username` отсутствует, возбудите исключение `ValueError`"
   ]
  },
  {
   "cell_type": "code",
   "execution_count": 8,
   "metadata": {},
   "outputs": [],
   "source": [
    "def user_info(username):\n",
    "    flag = False\n",
    "    for user in users:\n",
    "        if user['username'] == username:\n",
    "            for i, j in user.items():\n",
    "                print(f'{i}: {j}')\n",
    "            flag = True\n",
    "            break\n",
    "    if not flag:\n",
    "        raise ValueError('пользователь с заданным username отсутствует')\n",
    "        "
   ]
  },
  {
   "cell_type": "code",
   "execution_count": 9,
   "metadata": {},
   "outputs": [
    {
     "name": "stdout",
     "output_type": "stream",
     "text": [
      "username: uhebert\n",
      "name: Lindsey Nguyen\n",
      "sex: F\n",
      "address: 01261 Cameron Spring\n",
      "Taylorfurt, AK 97791\n",
      "mail: jsalazar@gmail.com\n",
      "jobs: ['Energy engineer', 'Engineer, site', 'Environmental health practitioner', 'Biomedical scientist', 'Jewellery designer']\n",
      "id: 35193\n"
     ]
    }
   ],
   "source": [
    "user_info('uhebert')"
   ]
  },
  {
   "cell_type": "code",
   "execution_count": 10,
   "metadata": {},
   "outputs": [
    {
     "ename": "ValueError",
     "evalue": "пользователь с заданным username отсутствует",
     "output_type": "error",
     "traceback": [
      "\u001b[1;31m---------------------------------------------------------------------------\u001b[0m",
      "\u001b[1;31mValueError\u001b[0m                                Traceback (most recent call last)",
      "Cell \u001b[1;32mIn[10], line 1\u001b[0m\n\u001b[1;32m----> 1\u001b[0m user_info(\u001b[38;5;124m'\u001b[39m\u001b[38;5;124mstargazer\u001b[39m\u001b[38;5;124m'\u001b[39m)\n",
      "Cell \u001b[1;32mIn[8], line 10\u001b[0m, in \u001b[0;36muser_info\u001b[1;34m(username)\u001b[0m\n\u001b[0;32m      8\u001b[0m         \u001b[38;5;28;01mbreak\u001b[39;00m\n\u001b[0;32m      9\u001b[0m \u001b[38;5;28;01mif\u001b[39;00m \u001b[38;5;129;01mnot\u001b[39;00m flag:\n\u001b[1;32m---> 10\u001b[0m     \u001b[38;5;28;01mraise\u001b[39;00m \u001b[38;5;167;01mValueError\u001b[39;00m(\u001b[38;5;124m'\u001b[39m\u001b[38;5;124mпользователь с заданным username отсутствует\u001b[39m\u001b[38;5;124m'\u001b[39m)\n",
      "\u001b[1;31mValueError\u001b[0m: пользователь с заданным username отсутствует"
     ]
    }
   ],
   "source": [
    "user_info('stargazer')"
   ]
  },
  {
   "cell_type": "markdown",
   "metadata": {},
   "source": [
    "1.4 Посчитайте, сколько мужчин и женщин присутсвует в этом наборе данных."
   ]
  },
  {
   "cell_type": "code",
   "execution_count": null,
   "metadata": {},
   "outputs": [],
   "source": [
    "f_count = 0\n",
    "m_count = 0\n",
    "for user in users:\n",
    "    if user['sex'] == 'F':\n",
    "        f_count += 1\n",
    "    else: \n",
    "        m_count += 1\n",
    "\n",
    "print(f'Количество женщин - {f_count}')\n",
    "print(f'Количество мужчин - {m_count}')\n"
   ]
  },
  {
   "cell_type": "markdown",
   "metadata": {},
   "source": [
    "1.5 Создайте `pd.DataFrame` `contributors`, имеющий столбцы `id`, `username` и `sex`."
   ]
  },
  {
   "cell_type": "code",
   "execution_count": null,
   "metadata": {},
   "outputs": [],
   "source": [
    "import pandas as pd\n",
    "\n",
    "contributors = pd.DataFrame(columns = ['id', 'username', 'sex'])\n",
    "for user in users:\n",
    "    info = []\n",
    "    info.append(user['id'])\n",
    "    info.append(user['username'])\n",
    "    info.append(user['sex'])\n",
    "    contributors.loc[len(contributors)] = info"
   ]
  },
  {
   "cell_type": "code",
   "execution_count": null,
   "metadata": {},
   "outputs": [],
   "source": [
    "contributors"
   ]
  },
  {
   "cell_type": "markdown",
   "metadata": {},
   "source": [
    "\n",
    "1.6 Загрузите данные из файла `recipes_sample.csv` (__ЛР2__) в таблицу `recipes`. Объедините `recipes` с таблицей `contributors` с сохранением строк в том случае, если информация о человеке отсутствует в JSON-файле. Для скольких человек информация отсутствует? "
   ]
  },
  {
   "cell_type": "code",
   "execution_count": null,
   "metadata": {},
   "outputs": [],
   "source": [
    "import pandas as pd"
   ]
  },
  {
   "cell_type": "code",
   "execution_count": null,
   "metadata": {},
   "outputs": [],
   "source": [
    "recipes = pd.read_csv('data/recipes_sample.csv')\n",
    "\n",
    "# Объединение таблиц recipes и contributors\n",
    "merged_data = pd.merge(recipes, contributors, left_on='contributor_id', right_on='id', how='left')\n",
    "# Определение количества человек, для которых информация отсутствует в JSON-файле\n",
    "missing_contributors = merged_data[merged_data['id_y'].isnull()]\n",
    "missing_count = missing_contributors['contributor_id'].nunique()\n",
    "display(merged_data)\n",
    "# Вывод результата\n",
    "print(\"Количество человек, для которых информация отсутствует в JSON-файле:\", missing_count)"
   ]
  },
  {
   "cell_type": "markdown",
   "metadata": {},
   "source": [
    "### pickle"
   ]
  },
  {
   "cell_type": "markdown",
   "metadata": {},
   "source": [
    "2.1 На основе файла `contributors_sample.json` создайте словарь следующего вида: \n",
    "```\n",
    "{\n",
    "    должность: [список username людей, занимавших эту должность]\n",
    "}\n",
    "```"
   ]
  },
  {
   "cell_type": "code",
   "execution_count": null,
   "metadata": {},
   "outputs": [],
   "source": [
    "jobs = {}\n",
    "for user in users:\n",
    "    for i in user['jobs']:\n",
    "        if i not in jobs:\n",
    "            jobs[i] = [user['username']]\n",
    "        else:\n",
    "            jobs[i].append(user['username'])\n",
    "\n",
    "for i, j in jobs.items():\n",
    "    print(f'{i}: {j}')\n",
    "    print()"
   ]
  },
  {
   "cell_type": "markdown",
   "metadata": {},
   "source": [
    "2.2 Сохраните результаты в файл `job_people.pickle` и в файл `job_people.json` с использованием форматов pickle и JSON соответственно. Сравните объемы получившихся файлов. При сохранении в JSON укажите аргумент `indent`."
   ]
  },
  {
   "cell_type": "code",
   "execution_count": null,
   "metadata": {},
   "outputs": [],
   "source": [
    "with open('job_people.json', 'w', encoding = 'utf-8') as f:\n",
    "    json.dump(jobs, f, indent = 4)"
   ]
  },
  {
   "cell_type": "code",
   "execution_count": null,
   "metadata": {},
   "outputs": [],
   "source": [
    "import pickle\n",
    "\n",
    "with open('job_people.pickle', 'wb') as f:\n",
    "    pickle.dump(jobs, f)"
   ]
  },
  {
   "cell_type": "markdown",
   "metadata": {},
   "source": [
    "2.3 Считайте файл `job_people.pickle` и продемонстрируйте, что данные считались корректно. "
   ]
  },
  {
   "cell_type": "code",
   "execution_count": null,
   "metadata": {},
   "outputs": [],
   "source": [
    "with open('job_people.pickle', 'rb') as f:\n",
    "    data = pickle.load(f)\n",
    "    \n",
    "data"
   ]
  },
  {
   "cell_type": "markdown",
   "metadata": {},
   "source": [
    "### XML"
   ]
  },
  {
   "cell_type": "markdown",
   "metadata": {},
   "source": [
    "3.1 По данным файла `steps_sample.xml` сформируйте словарь с шагами по каждому рецепту вида `{id_рецепта: [\"шаг1\", \"шаг2\"]}`. Сохраните этот словарь в файл `steps_sample.json`"
   ]
  },
  {
   "cell_type": "code",
   "execution_count": null,
   "metadata": {},
   "outputs": [],
   "source": [
    "import requests\n",
    "from bs4 import BeautifulSoup"
   ]
  },
  {
   "cell_type": "code",
   "execution_count": null,
   "metadata": {},
   "outputs": [],
   "source": [
    "with open('data\\steps_sample.xml') as f:\n",
    "    steps_sample = BeautifulSoup(f, 'xml')\n",
    "steps_sample"
   ]
  },
  {
   "cell_type": "code",
   "execution_count": null,
   "metadata": {},
   "outputs": [],
   "source": [
    "d_steps = {}\n",
    "for i in steps_sample.recipes.find_all('recipe'):\n",
    "    d_steps[i.id.text] = [st.text for st in i.steps.find_all('step')]\n",
    "d_steps"
   ]
  },
  {
   "cell_type": "markdown",
   "metadata": {},
   "source": [
    "3.2 По данным файла `steps_sample.xml` сформируйте словарь следующего вида: `кол-во_шагов_в_рецепте: [список_id_рецептов]`"
   ]
  },
  {
   "cell_type": "code",
   "execution_count": null,
   "metadata": {},
   "outputs": [],
   "source": [
    "count_steps = {}\n",
    "for i in steps_sample.recipes.find_all('recipe'):\n",
    "    n = [st.text for st in i.steps.find_all('step')]\n",
    "    if len(n) in count_steps:\n",
    "        count_steps[len(n)].append(i.id.text)\n",
    "    else:\n",
    "        count_steps[len(n)] = [i.id.text]\n",
    "count_steps\n"
   ]
  },
  {
   "cell_type": "markdown",
   "metadata": {},
   "source": [
    "3.3 Получите список рецептов, в этапах выполнения которых есть информация о времени (часы или минуты). Для отбора подходящих рецептов обратите внимание на атрибуты соответствующих тэгов."
   ]
  },
  {
   "cell_type": "code",
   "execution_count": null,
   "metadata": {},
   "outputs": [],
   "source": [
    "with_time = []\n",
    "for i in steps_sample.recipes.find_all('recipe'):\n",
    "    for _ in i.find_all('step', has_minutes = \"1\"):\n",
    "        with_time.append(i.id.text)\n",
    "        break\n",
    "    for _ in i.find_all('step', has_hours = \"1\"):\n",
    "        with_time.append(i.id.text)\n",
    "        break\n",
    "print(with_time)\n"
   ]
  },
  {
   "cell_type": "markdown",
   "metadata": {},
   "source": [
    "3.4 Загрузите данные из файла `recipes_sample.csv` (__ЛР2__) в таблицу `recipes`. Для строк, которые содержат пропуски в столбце `n_steps`, заполните этот столбец на основе файла  `steps_sample.xml`. Строки, в которых столбец `n_steps` заполнен, оставьте без изменений."
   ]
  },
  {
   "cell_type": "code",
   "execution_count": null,
   "metadata": {},
   "outputs": [],
   "source": [
    "import pandas as pd\n",
    "\n",
    "recipes = pd.read_csv('data/recipes_sample.csv')\n",
    "\n",
    "def steps_count(recipe_id, recipes):\n",
    "    for recipe in recipes.find_all('recipe'):\n",
    "        if int(recipe.find('id').text) == recipe_id:\n",
    "            return len(recipe.find_all('step'))\n",
    "\n",
    "with open('data/steps_sample.xml', 'r') as f:\n",
    "    sample = f.read()\n",
    "rec = BeautifulSoup(sample, 'xml')\n",
    "for index, row in recipes.iterrows():\n",
    "    if pd.isna(row['n_steps']):\n",
    "        recipes.at[index, 'n_steps'] = steps_count(row['id'],rec)\n"
   ]
  },
  {
   "cell_type": "markdown",
   "metadata": {},
   "source": [
    "3.5 Проверьте, содержит ли столбец `n_steps` пропуски. Если нет, то преобразуйте его к целочисленному типу и сохраните результаты в файл `recipes_sample_with_filled_nsteps.csv`"
   ]
  },
  {
   "cell_type": "code",
   "execution_count": null,
   "metadata": {},
   "outputs": [],
   "source": [
    "if recipes['n_steps'].isnull().values.any():\n",
    "    pass\n",
    "else:\n",
    "    recipes['n_steps'] = recipes['n_steps'].astype(int)\n",
    "    recipes.to_csv('recipes_sample_with_filled_nsteps.csv', index=False)\n"
   ]
  },
  {
   "cell_type": "code",
   "execution_count": null,
   "metadata": {},
   "outputs": [],
   "source": []
  }
 ],
 "metadata": {
  "kernelspec": {
   "display_name": "Python 3 (ipykernel)",
   "language": "python",
   "name": "python3"
  },
  "language_info": {
   "codemirror_mode": {
    "name": "ipython",
    "version": 3
   },
   "file_extension": ".py",
   "mimetype": "text/x-python",
   "name": "python",
   "nbconvert_exporter": "python",
   "pygments_lexer": "ipython3",
   "version": "3.11.5"
  }
 },
 "nbformat": 4,
 "nbformat_minor": 4
}
